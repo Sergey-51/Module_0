{
 "cells": [
  {
   "cell_type": "markdown",
   "metadata": {},
   "source": [
    "## Проект 0. GitHub. Самый быстрый старт "
   ]
  },
  {
   "cell_type": "code",
   "execution_count": 4,
   "metadata": {
    "scrolled": true
   },
   "outputs": [
    {
     "name": "stdout",
     "output_type": "stream",
     "text": [
      "Загадано число от 1 до 100\n",
      "50\n",
      "Угадываемое число меньше 50 \n",
      "25\n",
      "Угадываемое число меньше 25 \n",
      "13\n",
      "Угадываемое число больше 13 \n",
      "8\n",
      "Угадываемое число больше 8 \n",
      "9\n",
      "Угадываемое число больше 9 \n",
      "12\n",
      "Угадываемое число больше 12 \n",
      "20\n",
      "Угадываемое число больше 20 \n",
      "22\n",
      "Угадываемое число больше 22 \n",
      "24\n",
      "Вы угадали число 24 за 9 попыток.\n"
     ]
    }
   ],
   "source": [
    "# версия 1\n",
    "import numpy as np\n",
    "\n",
    "count = 0                           # счетчик попыток\n",
    "number = np.random.randint(1,101)   # загадали число\n",
    "print (\"Загадано число от 1 до 100\")\n",
    "\n",
    "while True:                        # бесконечный цикл\n",
    "    predict = int(input())         # предполагаемое число\n",
    "    count += 1                     # плюсуем попытку\n",
    "    if number == predict: break    # выход из цикла, если угадали\n",
    "    elif number > predict: print (f\"Угадываемое число больше {predict} \")\n",
    "    elif number < predict: print (f\"Угадываемое число меньше {predict} \")\n",
    "            \n",
    "print (f\"Вы угадали число {number} за {count} попыток.\")    "
   ]
  },
  {
   "cell_type": "code",
   "execution_count": 43,
   "metadata": {},
   "outputs": [],
   "source": [
    "import numpy as np\n",
    "\n",
    "'''Объявляем здесь основные переменные, для удобства изменения и отладки'''\n",
    "range_lower = 1 # Нижняя граница диапазона из загадываемых/отгадываемых чисел\n",
    "range_upper = 101 # Верхняя граница диапазона из загадываемых/отгадываемых чисел\n",
    "number_repetitions = 1000 # Количество повторений отгадываний, для расчета \n",
    "                          # среднего количества необходимых для этого попыток\n",
    "\n",
    "\n",
    "def score_game(game_core):\n",
    "    '''Основная функция, здесь генерятся числа для отгадывания и запускается функция угадывания'''\n",
    "    '''Запускаем игру 1000 раз, чтобы узнать, как быстро игра угадывает число'''\n",
    "    # создаем пустой список для наполнения его количеством ходов, затраченных для отгадывания\n",
    "    count_ls = []\n",
    "    \n",
    "    np.random.seed(1)  # фиксируем RANDOM SEED, чтобы ваш эксперимент был воспроизводим!\n",
    "    # генерим заданное число чисел из диапазона\n",
    "    random_array = np.random.randint(range_lower,range_upper, size=(number_repetitions))\n",
    "    \n",
    "    # запускаем функцию отгадывания, результат записываем в список\n",
    "    for number in random_array:\n",
    "        count_ls.append(game_core(number,range_lower,range_upper))\n",
    "    \n",
    "    # по результату отгадывания расчитываем среднее значение\n",
    "    score = int(np.mean(count_ls))\n",
    "    print(f\"Ваш алгоритм угадывает число в среднем за {score} попыток\")\n",
    "    return(score)\n",
    "\n",
    "\n",
    "def game_core_v5(number,range_lower,range_upper):\n",
    "    '''Функция - отгадывания числа'''\n",
    "    # функция принимает отгадываемое число (number),верхнюю и нижнюю \n",
    "    # границы (сделано для исключения ошибки по диапазону чисел)\n",
    "    count=1 # счетчик числа попыток\n",
    "    \n",
    "    # генерим случайное число из диапазона для старта угадывания\n",
    "    predict=np.random.randint(range_lower,range_upper) # предполагаемое число\n",
    "    \n",
    "    while number!=predict:\n",
    "        count+=1 # запускаем счетчик попыток\n",
    "        first_try=False # поскольку с первого раза не угадали, то переводим флаг в другой режим.\n",
    "        \n",
    "        if number>predict:\n",
    "            # если отгадываемое число больше нашего предположенного\n",
    "            range_upper=number # сдвигаем верхнюю границу\n",
    "            number=int((number-range_lower)/2) # расчитываем число из середины нового диапазона\n",
    "            \n",
    "        elif number<predict: \n",
    "            # если отгадываемое число меньше нашего предположенного \n",
    "            number=int((range_upper-number)/2+number)  # расчитываем число из середины нового диапазона\n",
    "            range_lower=number  # сдвигаем нижнюю границу\n",
    "                \n",
    "    return(count) # выход из цикла, если угадали"
   ]
  },
  {
   "cell_type": "code",
   "execution_count": 47,
   "metadata": {},
   "outputs": [
    {
     "name": "stdout",
     "output_type": "stream",
     "text": [
      "Ваш алгоритм угадывает число в среднем за 10 попыток\n"
     ]
    },
    {
     "data": {
      "text/plain": [
       "10"
      ]
     },
     "execution_count": 47,
     "metadata": {},
     "output_type": "execute_result"
    }
   ],
   "source": [
    "score_game(game_core_v5)"
   ]
  }
 ],
 "metadata": {
  "kernelspec": {
   "display_name": "Python 3",
   "language": "python",
   "name": "python3"
  },
  "language_info": {
   "codemirror_mode": {
    "name": "ipython",
    "version": 3
   },
   "file_extension": ".py",
   "mimetype": "text/x-python",
   "name": "python",
   "nbconvert_exporter": "python",
   "pygments_lexer": "ipython3",
   "version": "3.8.5"
  }
 },
 "nbformat": 4,
 "nbformat_minor": 4
}
